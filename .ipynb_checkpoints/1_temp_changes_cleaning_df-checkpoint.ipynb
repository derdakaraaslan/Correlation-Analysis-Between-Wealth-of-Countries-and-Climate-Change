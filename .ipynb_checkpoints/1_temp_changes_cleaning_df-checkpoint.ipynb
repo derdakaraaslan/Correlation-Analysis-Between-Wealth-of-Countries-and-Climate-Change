{
 "cells": [
  {
   "cell_type": "markdown",
   "id": "5c71cc5b",
   "metadata": {},
   "source": [
    "CLEANING DATA"
   ]
  },
  {
   "cell_type": "code",
   "execution_count": 1,
   "id": "5a792192",
   "metadata": {},
   "outputs": [],
   "source": [
    "import pandas as pd \n",
    "import numpy as np\n",
    "import seaborn as sns\n",
    "import matplotlib.pyplot as plt\n",
    "import warnings\n",
    "warnings.filterwarnings('ignore')"
   ]
  },
  {
   "cell_type": "code",
   "execution_count": 2,
   "id": "7b5ed775",
   "metadata": {},
   "outputs": [
    {
     "name": "stdout",
     "output_type": "stream",
     "text": [
      "<class 'pandas.core.frame.DataFrame'>\n",
      "RangeIndex: 2906327 entries, 0 to 2906326\n",
      "Data columns (total 8 columns):\n",
      " #   Column          Dtype  \n",
      "---  ------          -----  \n",
      " 0   Region          object \n",
      " 1   Country         object \n",
      " 2   State           object \n",
      " 3   City            object \n",
      " 4   Month           int64  \n",
      " 5   Day             int64  \n",
      " 6   Year            int64  \n",
      " 7   AvgTemperature  float64\n",
      "dtypes: float64(1), int64(3), object(4)\n",
      "memory usage: 177.4+ MB\n"
     ]
    }
   ],
   "source": [
    "df = pd.read_csv('city_temperature.csv') \n",
    "df.info()"
   ]
  },
  {
   "cell_type": "code",
   "execution_count": 3,
   "id": "03e2f2d3",
   "metadata": {},
   "outputs": [
    {
     "data": {
      "text/html": [
       "<div>\n",
       "<style scoped>\n",
       "    .dataframe tbody tr th:only-of-type {\n",
       "        vertical-align: middle;\n",
       "    }\n",
       "\n",
       "    .dataframe tbody tr th {\n",
       "        vertical-align: top;\n",
       "    }\n",
       "\n",
       "    .dataframe thead th {\n",
       "        text-align: right;\n",
       "    }\n",
       "</style>\n",
       "<table border=\"1\" class=\"dataframe\">\n",
       "  <thead>\n",
       "    <tr style=\"text-align: right;\">\n",
       "      <th></th>\n",
       "      <th>Month</th>\n",
       "      <th>Day</th>\n",
       "      <th>Year</th>\n",
       "      <th>AvgTemperature</th>\n",
       "    </tr>\n",
       "  </thead>\n",
       "  <tbody>\n",
       "    <tr>\n",
       "      <th>count</th>\n",
       "      <td>2.906327e+06</td>\n",
       "      <td>2.906327e+06</td>\n",
       "      <td>2.906327e+06</td>\n",
       "      <td>2.906327e+06</td>\n",
       "    </tr>\n",
       "    <tr>\n",
       "      <th>mean</th>\n",
       "      <td>6.469163e+00</td>\n",
       "      <td>1.571682e+01</td>\n",
       "      <td>2.006624e+03</td>\n",
       "      <td>5.600492e+01</td>\n",
       "    </tr>\n",
       "    <tr>\n",
       "      <th>std</th>\n",
       "      <td>3.456489e+00</td>\n",
       "      <td>8.800534e+00</td>\n",
       "      <td>2.338226e+01</td>\n",
       "      <td>3.212359e+01</td>\n",
       "    </tr>\n",
       "    <tr>\n",
       "      <th>min</th>\n",
       "      <td>1.000000e+00</td>\n",
       "      <td>0.000000e+00</td>\n",
       "      <td>2.000000e+02</td>\n",
       "      <td>-9.900000e+01</td>\n",
       "    </tr>\n",
       "    <tr>\n",
       "      <th>25%</th>\n",
       "      <td>3.000000e+00</td>\n",
       "      <td>8.000000e+00</td>\n",
       "      <td>2.001000e+03</td>\n",
       "      <td>4.580000e+01</td>\n",
       "    </tr>\n",
       "    <tr>\n",
       "      <th>50%</th>\n",
       "      <td>6.000000e+00</td>\n",
       "      <td>1.600000e+01</td>\n",
       "      <td>2.007000e+03</td>\n",
       "      <td>6.250000e+01</td>\n",
       "    </tr>\n",
       "    <tr>\n",
       "      <th>75%</th>\n",
       "      <td>9.000000e+00</td>\n",
       "      <td>2.300000e+01</td>\n",
       "      <td>2.013000e+03</td>\n",
       "      <td>7.550000e+01</td>\n",
       "    </tr>\n",
       "    <tr>\n",
       "      <th>max</th>\n",
       "      <td>1.200000e+01</td>\n",
       "      <td>3.100000e+01</td>\n",
       "      <td>2.020000e+03</td>\n",
       "      <td>1.100000e+02</td>\n",
       "    </tr>\n",
       "  </tbody>\n",
       "</table>\n",
       "</div>"
      ],
      "text/plain": [
       "              Month           Day          Year  AvgTemperature\n",
       "count  2.906327e+06  2.906327e+06  2.906327e+06    2.906327e+06\n",
       "mean   6.469163e+00  1.571682e+01  2.006624e+03    5.600492e+01\n",
       "std    3.456489e+00  8.800534e+00  2.338226e+01    3.212359e+01\n",
       "min    1.000000e+00  0.000000e+00  2.000000e+02   -9.900000e+01\n",
       "25%    3.000000e+00  8.000000e+00  2.001000e+03    4.580000e+01\n",
       "50%    6.000000e+00  1.600000e+01  2.007000e+03    6.250000e+01\n",
       "75%    9.000000e+00  2.300000e+01  2.013000e+03    7.550000e+01\n",
       "max    1.200000e+01  3.100000e+01  2.020000e+03    1.100000e+02"
      ]
     },
     "execution_count": 3,
     "metadata": {},
     "output_type": "execute_result"
    }
   ],
   "source": [
    "df.describe()"
   ]
  },
  {
   "cell_type": "code",
   "execution_count": 4,
   "id": "0be60c14",
   "metadata": {
    "scrolled": true
   },
   "outputs": [
    {
     "data": {
      "text/plain": [
       "['Region',\n",
       " 'Country',\n",
       " 'State',\n",
       " 'City',\n",
       " 'Month',\n",
       " 'Day',\n",
       " 'Year',\n",
       " 'AvgTemperature']"
      ]
     },
     "execution_count": 4,
     "metadata": {},
     "output_type": "execute_result"
    }
   ],
   "source": [
    "list(df.columns.values)"
   ]
  },
  {
   "cell_type": "code",
   "execution_count": 5,
   "id": "e565f32a",
   "metadata": {},
   "outputs": [
    {
     "name": "stdout",
     "output_type": "stream",
     "text": [
      "        Region Country State     City  Month  Day  Year  AvgTemperature\n",
      "684450  Europe  Cyprus   NaN  Nicosia      1    1  2010           -99.0\n",
      "684451  Europe  Cyprus   NaN  Nicosia      1    2  2010           -99.0\n",
      "684452  Europe  Cyprus   NaN  Nicosia      1    3  2010           -99.0\n",
      "684453  Europe  Cyprus   NaN  Nicosia      1    4  2010           -99.0\n",
      "684454  Europe  Cyprus   NaN  Nicosia      1    5  2010           -99.0\n",
      "...        ...     ...   ...      ...    ...  ...   ...             ...\n",
      "684617  Europe  Cyprus   NaN  Nicosia      6   17  2010           -99.0\n",
      "684618  Europe  Cyprus   NaN  Nicosia      6   18  2010           -99.0\n",
      "684619  Europe  Cyprus   NaN  Nicosia      6   19  2010           -99.0\n",
      "684620  Europe  Cyprus   NaN  Nicosia      6   20  2010           -99.0\n",
      "684621  Europe  Cyprus   NaN  Nicosia      6   21  2010            90.1\n",
      "\n",
      "[172 rows x 8 columns]\n"
     ]
    }
   ],
   "source": [
    "print(df[(df[\"Year\"]== 2010) &(df[\"Country\"]== \"Cyprus\")])"
   ]
  },
  {
   "cell_type": "markdown",
   "id": "004b366a",
   "metadata": {},
   "source": [
    "Checking for null and duplicates values"
   ]
  },
  {
   "cell_type": "code",
   "execution_count": 6,
   "id": "94ad1cb6",
   "metadata": {},
   "outputs": [
    {
     "name": "stdout",
     "output_type": "stream",
     "text": [
      "The missing values are:\n",
      "Region                  0\n",
      "Country                 0\n",
      "State             1450990\n",
      "City                    0\n",
      "Month                   0\n",
      "Day                     0\n",
      "Year                    0\n",
      "AvgTemperature          0\n",
      "dtype: int64\n",
      "\n",
      "The duplicated values are:20715\n"
     ]
    }
   ],
   "source": [
    "print(\"The missing values are:\\n{}\".format(df.isnull().sum()))\n",
    "print(\"\\nThe duplicated values are:{}\".format(len(df[df.duplicated()])))"
   ]
  },
  {
   "cell_type": "markdown",
   "id": "e16bb84b",
   "metadata": {},
   "source": [
    "Removing null and duplicate values from dataset"
   ]
  },
  {
   "cell_type": "code",
   "execution_count": 7,
   "id": "3fa869ac",
   "metadata": {},
   "outputs": [
    {
     "name": "stdout",
     "output_type": "stream",
     "text": [
      "The missing values are:\n",
      "Region            0\n",
      "Country           0\n",
      "City              0\n",
      "Month             0\n",
      "Day               0\n",
      "Year              0\n",
      "AvgTemperature    0\n",
      "dtype: int64\n",
      "\n",
      "The duplicated values are:0\n"
     ]
    }
   ],
   "source": [
    "df = df.drop('State', axis=1)\n",
    "df = df.drop_duplicates()\n",
    "print(\"The missing values are:\\n{}\".format(df.isnull().sum()))\n",
    "print(\"\\nThe duplicated values are:{}\".format(len(df[df.duplicated()])))"
   ]
  },
  {
   "cell_type": "code",
   "execution_count": 8,
   "id": "953d7d78",
   "metadata": {},
   "outputs": [
    {
     "name": "stdout",
     "output_type": "stream",
     "text": [
      "<class 'pandas.core.frame.DataFrame'>\n",
      "Int64Index: 2885424 entries, 0 to 2906326\n",
      "Data columns (total 7 columns):\n",
      " #   Column          Dtype  \n",
      "---  ------          -----  \n",
      " 0   Region          object \n",
      " 1   Country         object \n",
      " 2   City            object \n",
      " 3   Month           int64  \n",
      " 4   Day             int64  \n",
      " 5   Year            int64  \n",
      " 6   AvgTemperature  float64\n",
      "dtypes: float64(1), int64(3), object(3)\n",
      "memory usage: 176.1+ MB\n"
     ]
    }
   ],
   "source": [
    "df.info()"
   ]
  },
  {
   "cell_type": "code",
   "execution_count": 9,
   "id": "e567233e",
   "metadata": {},
   "outputs": [
    {
     "data": {
      "text/html": [
       "<div>\n",
       "<style scoped>\n",
       "    .dataframe tbody tr th:only-of-type {\n",
       "        vertical-align: middle;\n",
       "    }\n",
       "\n",
       "    .dataframe tbody tr th {\n",
       "        vertical-align: top;\n",
       "    }\n",
       "\n",
       "    .dataframe thead th {\n",
       "        text-align: right;\n",
       "    }\n",
       "</style>\n",
       "<table border=\"1\" class=\"dataframe\">\n",
       "  <thead>\n",
       "    <tr style=\"text-align: right;\">\n",
       "      <th></th>\n",
       "      <th>Month</th>\n",
       "      <th>Day</th>\n",
       "      <th>Year</th>\n",
       "      <th>AvgTemperature</th>\n",
       "    </tr>\n",
       "  </thead>\n",
       "  <tbody>\n",
       "    <tr>\n",
       "      <th>count</th>\n",
       "      <td>2.885424e+06</td>\n",
       "      <td>2.885424e+06</td>\n",
       "      <td>2.885424e+06</td>\n",
       "      <td>2.885424e+06</td>\n",
       "    </tr>\n",
       "    <tr>\n",
       "      <th>mean</th>\n",
       "      <td>6.469008e+00</td>\n",
       "      <td>1.571671e+01</td>\n",
       "      <td>2.006707e+03</td>\n",
       "      <td>5.601840e+01</td>\n",
       "    </tr>\n",
       "    <tr>\n",
       "      <th>std</th>\n",
       "      <td>3.456462e+00</td>\n",
       "      <td>8.800542e+00</td>\n",
       "      <td>1.965766e+01</td>\n",
       "      <td>3.214570e+01</td>\n",
       "    </tr>\n",
       "    <tr>\n",
       "      <th>min</th>\n",
       "      <td>1.000000e+00</td>\n",
       "      <td>0.000000e+00</td>\n",
       "      <td>2.000000e+02</td>\n",
       "      <td>-9.900000e+01</td>\n",
       "    </tr>\n",
       "    <tr>\n",
       "      <th>25%</th>\n",
       "      <td>3.000000e+00</td>\n",
       "      <td>8.000000e+00</td>\n",
       "      <td>2.001000e+03</td>\n",
       "      <td>4.580000e+01</td>\n",
       "    </tr>\n",
       "    <tr>\n",
       "      <th>50%</th>\n",
       "      <td>6.000000e+00</td>\n",
       "      <td>1.600000e+01</td>\n",
       "      <td>2.007000e+03</td>\n",
       "      <td>6.250000e+01</td>\n",
       "    </tr>\n",
       "    <tr>\n",
       "      <th>75%</th>\n",
       "      <td>9.000000e+00</td>\n",
       "      <td>2.300000e+01</td>\n",
       "      <td>2.013000e+03</td>\n",
       "      <td>7.560000e+01</td>\n",
       "    </tr>\n",
       "    <tr>\n",
       "      <th>max</th>\n",
       "      <td>1.200000e+01</td>\n",
       "      <td>3.100000e+01</td>\n",
       "      <td>2.020000e+03</td>\n",
       "      <td>1.100000e+02</td>\n",
       "    </tr>\n",
       "  </tbody>\n",
       "</table>\n",
       "</div>"
      ],
      "text/plain": [
       "              Month           Day          Year  AvgTemperature\n",
       "count  2.885424e+06  2.885424e+06  2.885424e+06    2.885424e+06\n",
       "mean   6.469008e+00  1.571671e+01  2.006707e+03    5.601840e+01\n",
       "std    3.456462e+00  8.800542e+00  1.965766e+01    3.214570e+01\n",
       "min    1.000000e+00  0.000000e+00  2.000000e+02   -9.900000e+01\n",
       "25%    3.000000e+00  8.000000e+00  2.001000e+03    4.580000e+01\n",
       "50%    6.000000e+00  1.600000e+01  2.007000e+03    6.250000e+01\n",
       "75%    9.000000e+00  2.300000e+01  2.013000e+03    7.560000e+01\n",
       "max    1.200000e+01  3.100000e+01  2.020000e+03    1.100000e+02"
      ]
     },
     "execution_count": 9,
     "metadata": {},
     "output_type": "execute_result"
    }
   ],
   "source": [
    "df.describe()"
   ]
  },
  {
   "cell_type": "markdown",
   "id": "682a0e06",
   "metadata": {},
   "source": [
    "Removing outliners"
   ]
  },
  {
   "cell_type": "code",
   "execution_count": 10,
   "id": "8ea076c1",
   "metadata": {},
   "outputs": [
    {
     "data": {
      "image/png": "[encoded data removed]",
      "text/plain": [
       "<Figure size 640x480 with 1 Axes>"
      ]
     },
     "metadata": {},
     "output_type": "display_data"
    },
    {
     "data": {
      "image/png": "[encoded data removed]",
      "text/plain": [
       "<Figure size 640x480 with 1 Axes>"
      ]
     },
     "metadata": {},
     "output_type": "display_data"
    },
    {
     "data": {
      "image/png": "[encoded data removed]",
      "text/plain": [
       "<Figure size 640x480 with 1 Axes>"
      ]
     },
     "metadata": {},
     "output_type": "display_data"
    },
    {
     "data": {
      "image/png": "[encoded data removed]",
      "text/plain": [
       "<Figure size 640x480 with 1 Axes>"
      ]
     },
     "metadata": {},
     "output_type": "display_data"
    }
   ],
   "source": [
    "for i in df[['Month', 'Day', 'Year', 'AvgTemperature']]:\n",
    "    plt.figure()\n",
    "    sns.boxplot(df, x=df[i], orient=\"h\")"
   ]
  },
  {
   "cell_type": "code",
   "execution_count": 11,
   "id": "e620d6dc",
   "metadata": {},
   "outputs": [
    {
     "data": {
      "text/plain": [
       "Year\n",
       "200         60\n",
       "201        235\n",
       "1995    117880\n",
       "1996    118210\n",
       "1997    117921\n",
       "1998    118334\n",
       "1999    118616\n",
       "2000    118946\n",
       "2001    118618\n",
       "2002    118601\n",
       "2003    118405\n",
       "2004    117910\n",
       "2005    117158\n",
       "2006    116910\n",
       "2007    114677\n",
       "2008    113818\n",
       "2009    113508\n",
       "2010    114526\n",
       "2011    112308\n",
       "2012    111256\n",
       "2013    110284\n",
       "2014    108284\n",
       "2015    106763\n",
       "2016    106499\n",
       "2017    106209\n",
       "2018    105657\n",
       "2019    105290\n",
       "2020     38541\n",
       "Name: AvgTemperature, dtype: int64"
      ]
     },
     "execution_count": 11,
     "metadata": {},
     "output_type": "execute_result"
    }
   ],
   "source": [
    "df.groupby('Year')['AvgTemperature'].count()"
   ]
  },
  {
   "cell_type": "code",
   "execution_count": 12,
   "id": "42c237e9",
   "metadata": {},
   "outputs": [],
   "source": [
    "df = df[df['Day'] > 0]\n",
    "df = df[df['Year'] > 1994]\n",
    "df = df[df['Year'] < 2020]\n",
    "df = df[df['AvgTemperature'] > -70]\n"
   ]
  },
  {
   "cell_type": "markdown",
   "id": "d5686d10",
   "metadata": {},
   "source": [
    "Correcting formats"
   ]
  },
  {
   "cell_type": "code",
   "execution_count": 13,
   "id": "bfdef333",
   "metadata": {},
   "outputs": [],
   "source": [
    "df['AvgTemperature'] = (df['AvgTemperature'] - 32)*(5/9) #F to C\n",
    "df['Date'] = pd.to_datetime(df[['Year','Month','Day']])"
   ]
  },
  {
   "cell_type": "code",
   "execution_count": 14,
   "id": "ff5e439b",
   "metadata": {},
   "outputs": [
    {
     "data": {
      "text/html": [
       "<div>\n",
       "<style scoped>\n",
       "    .dataframe tbody tr th:only-of-type {\n",
       "        vertical-align: middle;\n",
       "    }\n",
       "\n",
       "    .dataframe tbody tr th {\n",
       "        vertical-align: top;\n",
       "    }\n",
       "\n",
       "    .dataframe thead th {\n",
       "        text-align: right;\n",
       "    }\n",
       "</style>\n",
       "<table border=\"1\" class=\"dataframe\">\n",
       "  <thead>\n",
       "    <tr style=\"text-align: right;\">\n",
       "      <th></th>\n",
       "      <th>Region</th>\n",
       "      <th>Country</th>\n",
       "      <th>City</th>\n",
       "      <th>Month</th>\n",
       "      <th>Day</th>\n",
       "      <th>Year</th>\n",
       "      <th>AvgTemperature</th>\n",
       "      <th>Date</th>\n",
       "    </tr>\n",
       "  </thead>\n",
       "  <tbody>\n",
       "    <tr>\n",
       "      <th>0</th>\n",
       "      <td>Africa</td>\n",
       "      <td>Algeria</td>\n",
       "      <td>Algiers</td>\n",
       "      <td>1</td>\n",
       "      <td>1</td>\n",
       "      <td>1995</td>\n",
       "      <td>17.888889</td>\n",
       "      <td>1995-01-01</td>\n",
       "    </tr>\n",
       "    <tr>\n",
       "      <th>1</th>\n",
       "      <td>Africa</td>\n",
       "      <td>Algeria</td>\n",
       "      <td>Algiers</td>\n",
       "      <td>1</td>\n",
       "      <td>2</td>\n",
       "      <td>1995</td>\n",
       "      <td>9.666667</td>\n",
       "      <td>1995-01-02</td>\n",
       "    </tr>\n",
       "    <tr>\n",
       "      <th>2</th>\n",
       "      <td>Africa</td>\n",
       "      <td>Algeria</td>\n",
       "      <td>Algiers</td>\n",
       "      <td>1</td>\n",
       "      <td>3</td>\n",
       "      <td>1995</td>\n",
       "      <td>9.333333</td>\n",
       "      <td>1995-01-03</td>\n",
       "    </tr>\n",
       "    <tr>\n",
       "      <th>3</th>\n",
       "      <td>Africa</td>\n",
       "      <td>Algeria</td>\n",
       "      <td>Algiers</td>\n",
       "      <td>1</td>\n",
       "      <td>4</td>\n",
       "      <td>1995</td>\n",
       "      <td>8.000000</td>\n",
       "      <td>1995-01-04</td>\n",
       "    </tr>\n",
       "    <tr>\n",
       "      <th>4</th>\n",
       "      <td>Africa</td>\n",
       "      <td>Algeria</td>\n",
       "      <td>Algiers</td>\n",
       "      <td>1</td>\n",
       "      <td>5</td>\n",
       "      <td>1995</td>\n",
       "      <td>8.833333</td>\n",
       "      <td>1995-01-05</td>\n",
       "    </tr>\n",
       "    <tr>\n",
       "      <th>...</th>\n",
       "      <td>...</td>\n",
       "      <td>...</td>\n",
       "      <td>...</td>\n",
       "      <td>...</td>\n",
       "      <td>...</td>\n",
       "      <td>...</td>\n",
       "      <td>...</td>\n",
       "      <td>...</td>\n",
       "    </tr>\n",
       "    <tr>\n",
       "      <th>2906322</th>\n",
       "      <td>North America</td>\n",
       "      <td>US</td>\n",
       "      <td>San Juan Puerto Rico</td>\n",
       "      <td>7</td>\n",
       "      <td>27</td>\n",
       "      <td>2013</td>\n",
       "      <td>28.000000</td>\n",
       "      <td>2013-07-27</td>\n",
       "    </tr>\n",
       "    <tr>\n",
       "      <th>2906323</th>\n",
       "      <td>North America</td>\n",
       "      <td>US</td>\n",
       "      <td>San Juan Puerto Rico</td>\n",
       "      <td>7</td>\n",
       "      <td>28</td>\n",
       "      <td>2013</td>\n",
       "      <td>27.555556</td>\n",
       "      <td>2013-07-28</td>\n",
       "    </tr>\n",
       "    <tr>\n",
       "      <th>2906324</th>\n",
       "      <td>North America</td>\n",
       "      <td>US</td>\n",
       "      <td>San Juan Puerto Rico</td>\n",
       "      <td>7</td>\n",
       "      <td>29</td>\n",
       "      <td>2013</td>\n",
       "      <td>29.000000</td>\n",
       "      <td>2013-07-29</td>\n",
       "    </tr>\n",
       "    <tr>\n",
       "      <th>2906325</th>\n",
       "      <td>North America</td>\n",
       "      <td>US</td>\n",
       "      <td>San Juan Puerto Rico</td>\n",
       "      <td>7</td>\n",
       "      <td>30</td>\n",
       "      <td>2013</td>\n",
       "      <td>28.777778</td>\n",
       "      <td>2013-07-30</td>\n",
       "    </tr>\n",
       "    <tr>\n",
       "      <th>2906326</th>\n",
       "      <td>North America</td>\n",
       "      <td>US</td>\n",
       "      <td>San Juan Puerto Rico</td>\n",
       "      <td>7</td>\n",
       "      <td>31</td>\n",
       "      <td>2013</td>\n",
       "      <td>28.666667</td>\n",
       "      <td>2013-07-31</td>\n",
       "    </tr>\n",
       "  </tbody>\n",
       "</table>\n",
       "<p>2767764 rows × 8 columns</p>\n",
       "</div>"
      ],
      "text/plain": [
       "                Region  Country                  City  Month  Day  Year  \\\n",
       "0               Africa  Algeria               Algiers      1    1  1995   \n",
       "1               Africa  Algeria               Algiers      1    2  1995   \n",
       "2               Africa  Algeria               Algiers      1    3  1995   \n",
       "3               Africa  Algeria               Algiers      1    4  1995   \n",
       "4               Africa  Algeria               Algiers      1    5  1995   \n",
       "...                ...      ...                   ...    ...  ...   ...   \n",
       "2906322  North America       US  San Juan Puerto Rico      7   27  2013   \n",
       "2906323  North America       US  San Juan Puerto Rico      7   28  2013   \n",
       "2906324  North America       US  San Juan Puerto Rico      7   29  2013   \n",
       "2906325  North America       US  San Juan Puerto Rico      7   30  2013   \n",
       "2906326  North America       US  San Juan Puerto Rico      7   31  2013   \n",
       "\n",
       "         AvgTemperature       Date  \n",
       "0             17.888889 1995-01-01  \n",
       "1              9.666667 1995-01-02  \n",
       "2              9.333333 1995-01-03  \n",
       "3              8.000000 1995-01-04  \n",
       "4              8.833333 1995-01-05  \n",
       "...                 ...        ...  \n",
       "2906322       28.000000 2013-07-27  \n",
       "2906323       27.555556 2013-07-28  \n",
       "2906324       29.000000 2013-07-29  \n",
       "2906325       28.777778 2013-07-30  \n",
       "2906326       28.666667 2013-07-31  \n",
       "\n",
       "[2767764 rows x 8 columns]"
      ]
     },
     "execution_count": 14,
     "metadata": {},
     "output_type": "execute_result"
    }
   ],
   "source": [
    "df"
   ]
  },
  {
   "cell_type": "code",
   "execution_count": 15,
   "id": "d7331c9a",
   "metadata": {},
   "outputs": [],
   "source": [
    "df.to_csv('cleaned_city_temperature.csv', index=False)"
   ]
  }
 ],
 "metadata": {
  "kernelspec": {
   "display_name": "Python 3 (ipykernel)",
   "language": "python",
   "name": "python3"
  },
  "language_info": {
   "codemirror_mode": {
    "name": "ipython",
    "version": 3
   },
   "file_extension": ".py",
   "mimetype": "text/x-python",
   "name": "python",
   "nbconvert_exporter": "python",
   "pygments_lexer": "ipython3",
   "version": "3.10.5"
  }
 },
 "nbformat": 4,
 "nbformat_minor": 5
}
