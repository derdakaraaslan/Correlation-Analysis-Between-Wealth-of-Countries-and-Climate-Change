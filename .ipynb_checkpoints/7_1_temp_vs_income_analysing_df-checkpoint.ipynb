{
 "cells": [
  {
   "cell_type": "code",
   "execution_count": 1,
   "id": "0944b119",
   "metadata": {},
   "outputs": [],
   "source": [
    "import pandas as pd \n",
    "import numpy as np\n",
    "import seaborn as sns\n",
    "import matplotlib.pyplot as plt\n",
    "import plotly.express as px\n",
    "import plotly.graph_objects as go\n",
    "from plotly.subplots import make_subplots\n",
    "from bubbly.bubbly import bubbleplot \n",
    "from plotly.offline import iplot\n",
    "import warnings\n",
    "warnings.filterwarnings('ignore')"
   ]
  },
  {
   "cell_type": "code",
   "execution_count": 2,
   "id": "e54cd26c",
   "metadata": {
    "scrolled": true
   },
   "outputs": [
    {
     "name": "stdout",
     "output_type": "stream",
     "text": [
      "<class 'pandas.core.frame.DataFrame'>\n",
      "RangeIndex: 121 entries, 0 to 120\n",
      "Data columns (total 6 columns):\n",
      " #   Column      Non-Null Count  Dtype  \n",
      "---  ------      --------------  -----  \n",
      " 0   index       121 non-null    int64  \n",
      " 1   Region      121 non-null    object \n",
      " 2   Country     121 non-null    object \n",
      " 3   AvgNew      121 non-null    float64\n",
      " 4   AvgLast     121 non-null    float64\n",
      " 5   difference  121 non-null    float64\n",
      "dtypes: float64(3), int64(1), object(2)\n",
      "memory usage: 5.8+ KB\n",
      "<class 'pandas.core.frame.DataFrame'>\n",
      "RangeIndex: 262 entries, 0 to 261\n",
      "Data columns (total 4 columns):\n",
      " #   Column                   Non-Null Count  Dtype  \n",
      "---  ------                   --------------  -----  \n",
      " 0   Country                  262 non-null    object \n",
      " 1   GDP_per_capita_USD_New   262 non-null    float64\n",
      " 2   GDP_per_capita_USD_Last  262 non-null    float64\n",
      " 3   difference               262 non-null    float64\n",
      "dtypes: float64(3), object(1)\n",
      "memory usage: 8.3+ KB\n"
     ]
    }
   ],
   "source": [
    "df_temp = pd.read_csv('top_temp_diff.csv') \n",
    "df_inc = pd.read_csv('top_income_diff.csv') \n",
    "df_temp.info()\n",
    "df_inc.info()"
   ]
  },
  {
   "cell_type": "code",
   "execution_count": 3,
   "id": "dfe677e0",
   "metadata": {},
   "outputs": [
    {
     "ename": "KeyError",
     "evalue": "'Year'",
     "output_type": "error",
     "traceback": [
      "\u001b[1;31m---------------------------------------------------------------------------\u001b[0m",
      "\u001b[1;31mKeyError\u001b[0m                                  Traceback (most recent call last)",
      "Cell \u001b[1;32mIn [3], line 1\u001b[0m\n\u001b[1;32m----> 1\u001b[0m df_temp\u001b[38;5;241m=\u001b[39m\u001b[43mdf_temp\u001b[49m\u001b[38;5;241;43m.\u001b[39;49m\u001b[43msort_values\u001b[49m\u001b[43m(\u001b[49m\u001b[43mby\u001b[49m\u001b[38;5;241;43m=\u001b[39;49m\u001b[43m[\u001b[49m\u001b[38;5;124;43m'\u001b[39;49m\u001b[38;5;124;43mRegion\u001b[39;49m\u001b[38;5;124;43m'\u001b[39;49m\u001b[43m,\u001b[49m\u001b[38;5;124;43m'\u001b[39;49m\u001b[38;5;124;43mCountry\u001b[39;49m\u001b[38;5;124;43m'\u001b[39;49m\u001b[43m,\u001b[49m\u001b[38;5;124;43m'\u001b[39;49m\u001b[38;5;124;43mYear\u001b[39;49m\u001b[38;5;124;43m'\u001b[39;49m\u001b[43m]\u001b[49m\u001b[43m)\u001b[49m\u001b[38;5;241m.\u001b[39mreset_index()\u001b[38;5;241m.\u001b[39mdrop(\u001b[38;5;124m'\u001b[39m\u001b[38;5;124mindex\u001b[39m\u001b[38;5;124m'\u001b[39m, axis\u001b[38;5;241m=\u001b[39m\u001b[38;5;241m1\u001b[39m)\n\u001b[0;32m      2\u001b[0m df_temp\n",
      "File \u001b[1;32m~\\AppData\\Local\\Programs\\Python\\Python310\\lib\\site-packages\\pandas\\util\\_decorators.py:311\u001b[0m, in \u001b[0;36mdeprecate_nonkeyword_arguments.<locals>.decorate.<locals>.wrapper\u001b[1;34m(*args, **kwargs)\u001b[0m\n\u001b[0;32m    305\u001b[0m \u001b[38;5;28;01mif\u001b[39;00m \u001b[38;5;28mlen\u001b[39m(args) \u001b[38;5;241m>\u001b[39m num_allow_args:\n\u001b[0;32m    306\u001b[0m     warnings\u001b[38;5;241m.\u001b[39mwarn(\n\u001b[0;32m    307\u001b[0m         msg\u001b[38;5;241m.\u001b[39mformat(arguments\u001b[38;5;241m=\u001b[39marguments),\n\u001b[0;32m    308\u001b[0m         \u001b[38;5;167;01mFutureWarning\u001b[39;00m,\n\u001b[0;32m    309\u001b[0m         stacklevel\u001b[38;5;241m=\u001b[39mstacklevel,\n\u001b[0;32m    310\u001b[0m     )\n\u001b[1;32m--> 311\u001b[0m \u001b[38;5;28;01mreturn\u001b[39;00m func(\u001b[38;5;241m*\u001b[39margs, \u001b[38;5;241m*\u001b[39m\u001b[38;5;241m*\u001b[39mkwargs)\n",
      "File \u001b[1;32m~\\AppData\\Local\\Programs\\Python\\Python310\\lib\\site-packages\\pandas\\core\\frame.py:6301\u001b[0m, in \u001b[0;36mDataFrame.sort_values\u001b[1;34m(self, by, axis, ascending, inplace, kind, na_position, ignore_index, key)\u001b[0m\n\u001b[0;32m   6296\u001b[0m     \u001b[38;5;28;01mraise\u001b[39;00m \u001b[38;5;167;01mValueError\u001b[39;00m(\n\u001b[0;32m   6297\u001b[0m         \u001b[38;5;124mf\u001b[39m\u001b[38;5;124m\"\u001b[39m\u001b[38;5;124mLength of ascending (\u001b[39m\u001b[38;5;132;01m{\u001b[39;00m\u001b[38;5;28mlen\u001b[39m(ascending)\u001b[38;5;132;01m}\u001b[39;00m\u001b[38;5;124m) != length of by (\u001b[39m\u001b[38;5;132;01m{\u001b[39;00m\u001b[38;5;28mlen\u001b[39m(by)\u001b[38;5;132;01m}\u001b[39;00m\u001b[38;5;124m)\u001b[39m\u001b[38;5;124m\"\u001b[39m\n\u001b[0;32m   6298\u001b[0m     )\n\u001b[0;32m   6299\u001b[0m \u001b[38;5;28;01mif\u001b[39;00m \u001b[38;5;28mlen\u001b[39m(by) \u001b[38;5;241m>\u001b[39m \u001b[38;5;241m1\u001b[39m:\n\u001b[1;32m-> 6301\u001b[0m     keys \u001b[38;5;241m=\u001b[39m [\u001b[38;5;28mself\u001b[39m\u001b[38;5;241m.\u001b[39m_get_label_or_level_values(x, axis\u001b[38;5;241m=\u001b[39maxis) \u001b[38;5;28;01mfor\u001b[39;00m x \u001b[38;5;129;01min\u001b[39;00m by]\n\u001b[0;32m   6303\u001b[0m     \u001b[38;5;66;03m# need to rewrap columns in Series to apply key function\u001b[39;00m\n\u001b[0;32m   6304\u001b[0m     \u001b[38;5;28;01mif\u001b[39;00m key \u001b[38;5;129;01mis\u001b[39;00m \u001b[38;5;129;01mnot\u001b[39;00m \u001b[38;5;28;01mNone\u001b[39;00m:\n\u001b[0;32m   6305\u001b[0m         \u001b[38;5;66;03m# error: List comprehension has incompatible type List[Series];\u001b[39;00m\n\u001b[0;32m   6306\u001b[0m         \u001b[38;5;66;03m# expected List[ndarray]\u001b[39;00m\n",
      "File \u001b[1;32m~\\AppData\\Local\\Programs\\Python\\Python310\\lib\\site-packages\\pandas\\core\\frame.py:6301\u001b[0m, in \u001b[0;36m<listcomp>\u001b[1;34m(.0)\u001b[0m\n\u001b[0;32m   6296\u001b[0m     \u001b[38;5;28;01mraise\u001b[39;00m \u001b[38;5;167;01mValueError\u001b[39;00m(\n\u001b[0;32m   6297\u001b[0m         \u001b[38;5;124mf\u001b[39m\u001b[38;5;124m\"\u001b[39m\u001b[38;5;124mLength of ascending (\u001b[39m\u001b[38;5;132;01m{\u001b[39;00m\u001b[38;5;28mlen\u001b[39m(ascending)\u001b[38;5;132;01m}\u001b[39;00m\u001b[38;5;124m) != length of by (\u001b[39m\u001b[38;5;132;01m{\u001b[39;00m\u001b[38;5;28mlen\u001b[39m(by)\u001b[38;5;132;01m}\u001b[39;00m\u001b[38;5;124m)\u001b[39m\u001b[38;5;124m\"\u001b[39m\n\u001b[0;32m   6298\u001b[0m     )\n\u001b[0;32m   6299\u001b[0m \u001b[38;5;28;01mif\u001b[39;00m \u001b[38;5;28mlen\u001b[39m(by) \u001b[38;5;241m>\u001b[39m \u001b[38;5;241m1\u001b[39m:\n\u001b[1;32m-> 6301\u001b[0m     keys \u001b[38;5;241m=\u001b[39m [\u001b[38;5;28;43mself\u001b[39;49m\u001b[38;5;241;43m.\u001b[39;49m\u001b[43m_get_label_or_level_values\u001b[49m\u001b[43m(\u001b[49m\u001b[43mx\u001b[49m\u001b[43m,\u001b[49m\u001b[43m \u001b[49m\u001b[43maxis\u001b[49m\u001b[38;5;241;43m=\u001b[39;49m\u001b[43maxis\u001b[49m\u001b[43m)\u001b[49m \u001b[38;5;28;01mfor\u001b[39;00m x \u001b[38;5;129;01min\u001b[39;00m by]\n\u001b[0;32m   6303\u001b[0m     \u001b[38;5;66;03m# need to rewrap columns in Series to apply key function\u001b[39;00m\n\u001b[0;32m   6304\u001b[0m     \u001b[38;5;28;01mif\u001b[39;00m key \u001b[38;5;129;01mis\u001b[39;00m \u001b[38;5;129;01mnot\u001b[39;00m \u001b[38;5;28;01mNone\u001b[39;00m:\n\u001b[0;32m   6305\u001b[0m         \u001b[38;5;66;03m# error: List comprehension has incompatible type List[Series];\u001b[39;00m\n\u001b[0;32m   6306\u001b[0m         \u001b[38;5;66;03m# expected List[ndarray]\u001b[39;00m\n",
      "File \u001b[1;32m~\\AppData\\Local\\Programs\\Python\\Python310\\lib\\site-packages\\pandas\\core\\generic.py:1840\u001b[0m, in \u001b[0;36mNDFrame._get_label_or_level_values\u001b[1;34m(self, key, axis)\u001b[0m\n\u001b[0;32m   1838\u001b[0m     values \u001b[38;5;241m=\u001b[39m \u001b[38;5;28mself\u001b[39m\u001b[38;5;241m.\u001b[39maxes[axis]\u001b[38;5;241m.\u001b[39mget_level_values(key)\u001b[38;5;241m.\u001b[39m_values\n\u001b[0;32m   1839\u001b[0m \u001b[38;5;28;01melse\u001b[39;00m:\n\u001b[1;32m-> 1840\u001b[0m     \u001b[38;5;28;01mraise\u001b[39;00m \u001b[38;5;167;01mKeyError\u001b[39;00m(key)\n\u001b[0;32m   1842\u001b[0m \u001b[38;5;66;03m# Check for duplicates\u001b[39;00m\n\u001b[0;32m   1843\u001b[0m \u001b[38;5;28;01mif\u001b[39;00m values\u001b[38;5;241m.\u001b[39mndim \u001b[38;5;241m>\u001b[39m \u001b[38;5;241m1\u001b[39m:\n",
      "\u001b[1;31mKeyError\u001b[0m: 'Year'"
     ]
    }
   ],
   "source": [
    "df_temp=df_temp.sort_values(by=['Region','Country','Year']).reset_index().drop('index', axis=1)\n",
    "df_temp"
   ]
  },
  {
   "cell_type": "code",
   "execution_count": null,
   "id": "d982fad3",
   "metadata": {},
   "outputs": [],
   "source": [
    "df_inc=df_inc.rename(columns={\"Country Name\": \"Country\"})\n",
    "df_inc"
   ]
  },
  {
   "cell_type": "code",
   "execution_count": null,
   "id": "51b93402",
   "metadata": {
    "scrolled": true
   },
   "outputs": [],
   "source": [
    "df = pd.merge(df_temp, df_inc, how ='inner', on =['Country', 'Year'])\n",
    "df"
   ]
  },
  {
   "cell_type": "code",
   "execution_count": null,
   "id": "05252821",
   "metadata": {},
   "outputs": [],
   "source": [
    "figure = bubbleplot(dataset=df, x_column='GDP_per_capita_USD', y_column='AvgTemperature', \n",
    "    bubble_column='Country', time_column='Year', size_column='GDP_per_capita_USD', color_column='Region', \n",
    "    x_title=\"GDP per Capita\", y_title=\"Average Temperature\", title='Avg Temp vs GDP',\n",
    "    x_logscale=True, scale_bubble=3, height=650)\n",
    "\n",
    "iplot(figure, config={'scrollzoom': True})"
   ]
  },
  {
   "cell_type": "code",
   "execution_count": null,
   "id": "9f2a790c",
   "metadata": {},
   "outputs": [],
   "source": [
    "# global yearly stats:\n",
    "# - average, min, max temperature per year \n",
    "# - date and location (city/country/region) of lowest temperature during this year\n",
    "# - date and location (city/country/region) of highest temperature during this year\n",
    "dfg = (df.groupby('Year')['AvgTemperature'].agg(['mean','min','idxmin','max','idxmax']).reset_index()\n",
    "       .merge(df[['Region','Country']], left_on='idxmin',right_index=True)\n",
    "       .merge(df[['Region','Country']], left_on='idxmax',right_index=True,suffixes=('_min','_max')) )\n",
    "\n",
    "# top hottest/coldest cities over the entire period\n",
    "dft = df.groupby(['Region','Country'])['AvgTemperature'].mean().sort_values(ascending=False).reset_index()\n",
    "dfi = df.groupby(['Region','Country'])['GDP_per_capita_USD'].mean().sort_values(ascending=False).reset_index()\n",
    "\n",
    "fig = make_subplots(rows=3,cols=2,\n",
    "                    column_widths=[0.5, 0.5],row_heights=[0.5, 0.5, 0.5],\n",
    "                    vertical_spacing=0.15,\n",
    "                    specs=[[{\"type\": \"scatter\", \"colspan\": 2},None],\n",
    "                           [{\"type\": \"bar\"},{\"type\": \"bar\"}],\n",
    "                           [{\"type\": \"bar\"},{\"type\": \"bar\"}]],\n",
    "                    subplot_titles=['Global temperatures over the years 1995 to 2019','Top 20 coldest countries','Top 20 hottest countries',\n",
    "                                   'Top 20 highest income', 'Top 20 lowest income'],\n",
    "                    y_title='Average temperature °C')\n",
    "\n",
    "# global temperature trend graph\n",
    "trace = (px.scatter(dfg, x='Year', y='mean',trendline='ols',trendline_color_override='red')\n",
    "         .add_trace(px.line(dfg, x='Year', y='mean').data[0])\n",
    "         .update_traces(hovertemplate='<b>%{x}</b><br><i>Avg temp :<b> %{y}</b></i><br>%{text}',\n",
    "                        text = ['Min temp : <b>'+str(d['min'])+'</b>, country : '+d['Country_min'] +'<br>'+'Max temp : <b>'+str(d['max'])+'</b>, country : '+d['Country_max']\n",
    "                                for _, d in dfg.iterrows()],\n",
    "                        hoverlabel_bgcolor='white')).data\n",
    "\n",
    "fig.add_trace(trace[0], row=1, col=1)\n",
    "fig.add_trace(trace[1], row=1, col=1)\n",
    "fig.add_trace(trace[2], row=1, col=1)\n",
    "\n",
    "# hottest cities graph\n",
    "fig.add_trace((px.bar(dft.head(20),\n",
    "                      x='Country',\n",
    "                      y='AvgTemperature',\n",
    "                      color='AvgTemperature',\n",
    "                      color_continuous_scale=['darkorange','red'],\n",
    "                      hover_data=['Country', 'AvgTemperature'],\n",
    "                      opacity=0.8)).data[0],\n",
    "              row=2, col=2)\n",
    "\n",
    "# coldest cities graph\n",
    "fig.add_trace((px.bar(dft.tail(20),\n",
    "                      x='Country',\n",
    "                      y='AvgTemperature',\n",
    "                      color='AvgTemperature',\n",
    "                      color_continuous_scale=['blue','lightblue'],\n",
    "                      hover_data=['Country', 'AvgTemperature'],\n",
    "                      opacity=0.8)).data[0],\n",
    "              row=2, col=1)\n",
    "\n",
    "# highest income graph\n",
    "fig.add_trace((px.bar(dfi.head(20),\n",
    "                      x='Country',\n",
    "                      y='GDP_per_capita_USD',\n",
    "                      color='GDP_per_capita_USD',\n",
    "                      color_continuous_scale=['darkorange','red'],\n",
    "                      hover_data=['Country', 'GDP_per_capita_USD'],\n",
    "                      opacity=0.8)).data[0],\n",
    "              row=3, col=1)\n",
    "\n",
    "# lowest income graph\n",
    "fig.add_trace((px.bar(dfi.tail(20),\n",
    "                      x='Country',\n",
    "                      y='GDP_per_capita_USD',\n",
    "                      color='GDP_per_capita_USD',\n",
    "                      color_continuous_scale=['blue','lightblue'],\n",
    "                      hover_data=['Country', 'GDP_per_capita_USD'],\n",
    "                      opacity=0.8)).data[0],\n",
    "              row=3, col=2)\n",
    "\n",
    "fig.update_layout(height=1100, margin=dict(r=10, t=40, b=50, l=60))\n",
    "fig.update_layout(coloraxis_autocolorscale=False, coloraxis_colorscale=['blue','lightblue','yellow','orange','darkorange','red'],coloraxis_colorbar_title='Temp °C')"
   ]
  }
 ],
 "metadata": {
  "kernelspec": {
   "display_name": "Python 3 (ipykernel)",
   "language": "python",
   "name": "python3"
  },
  "language_info": {
   "codemirror_mode": {
    "name": "ipython",
    "version": 3
   },
   "file_extension": ".py",
   "mimetype": "text/x-python",
   "name": "python",
   "nbconvert_exporter": "python",
   "pygments_lexer": "ipython3",
   "version": "3.10.5"
  }
 },
 "nbformat": 4,
 "nbformat_minor": 5
}
